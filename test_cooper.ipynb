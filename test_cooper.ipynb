{
 "cells": [
  {
   "cell_type": "code",
   "execution_count": null,
   "metadata": {},
   "outputs": [],
   "source": [
    "import json\n",
    "\n",
    "import numpy as np\n",
    "\n",
    "from lib import cooper\n",
    "from lib import clusterings as clust\n",
    "from lib import files"
   ]
  },
  {
   "cell_type": "markdown",
   "metadata": {},
   "source": [
    "## Load data ..."
   ]
  },
  {
   "cell_type": "code",
   "execution_count": null,
   "metadata": {
    "scrolled": true
   },
   "outputs": [],
   "source": [
    "# load the metadata of images in Dataset : timestamp and GPS\n",
    "try:\n",
    "    with open('./res.json', 'r') as f:\n",
    "        res = json.load(f)\n",
    "except:\n",
    "    res = files.scan_images('Photos/fweber.mycozy.cloud/', True)\n",
    "    with open('./res.json', 'w') as f:\n",
    "        json.dump(res, f, indent=4)\n",
    "N = len(res['filenames'])"
   ]
  },
  {
   "cell_type": "markdown",
   "metadata": {},
   "source": [
    "## clustering based on spatial data, then temporal data"
   ]
  },
  {
   "cell_type": "markdown",
   "metadata": {},
   "source": [
    "### Spatial ..."
   ]
  },
  {
   "cell_type": "code",
   "execution_count": null,
   "metadata": {},
   "outputs": [],
   "source": [
    "# extract spatial data\n",
    "coords = res['coords']\n",
    "latitudes = np.array([coord['lat'] for coord in coords]).reshape(-1, 1)\n",
    "longitudes = np.array([coord['long'] for coord in coords]).reshape(-1, 1)\n",
    "data = np.concatenate((latitudes, longitudes), axis=1)\n",
    "metric = clust.metric_spatial()"
   ]
  },
  {
   "cell_type": "code",
   "execution_count": null,
   "metadata": {},
   "outputs": [],
   "source": [
    "# build a first set of spatial clusterings \n",
    "## specify bandwidth (in km) to be used in the spatial kernel :\n",
    "bandwidths = [1, 2, 4, 8, 16, 32]\n",
    "R_spatial = cooper.compute_clusterings_at_scales(feature=data, bandwidths=bandwidths, metric=metric)"
   ]
  },
  {
   "cell_type": "code",
   "execution_count": null,
   "metadata": {},
   "outputs": [],
   "source": [
    "# extract the boundaries of every clustering\n",
    "clust_spatial = [r['clusters_indices'] for r in R_spatial]"
   ]
  },
  {
   "cell_type": "markdown",
   "metadata": {},
   "source": [
    "### Temporal ..."
   ]
  },
  {
   "cell_type": "code",
   "execution_count": null,
   "metadata": {},
   "outputs": [],
   "source": [
    "# extract spatial data\n",
    "data = np.array(res['timestamps']).reshape(-1, 1)\n",
    "metric = clust.metric_temporal()"
   ]
  },
  {
   "cell_type": "code",
   "execution_count": null,
   "metadata": {},
   "outputs": [],
   "source": [
    "# build a first set of spatial clusterings \n",
    "## specify bandwidth (in seconds) to be used in the spatial kernel :\n",
    "bandwidths = np.array([1, 2, 4, 8, 12, 24, 48, 72]) * 3600\n",
    "R_temporal = cooper.compute_clusterings_at_scales(feature=data, bandwidths=bandwidths, metric=metric)"
   ]
  },
  {
   "cell_type": "code",
   "execution_count": null,
   "metadata": {},
   "outputs": [],
   "source": [
    "# extract the boundaries of every clustering\n",
    "clust_temporal = [r['clusters_indices'] for r in R_temporal]"
   ]
  },
  {
   "cell_type": "markdown",
   "metadata": {},
   "source": [
    "## Now try to fuse every possible clustering with cooper's technic"
   ]
  },
  {
   "cell_type": "code",
   "execution_count": null,
   "metadata": {},
   "outputs": [],
   "source": [
    "# concatenate every possible clusterings\n",
    "clusterings = clust_spatial + clust_temporal"
   ]
  },
  {
   "cell_type": "code",
   "execution_count": null,
   "metadata": {},
   "outputs": [],
   "source": [
    "%time\n",
    "# now apply Cooper's technic to build the clustering that maximizes \n",
    "# the average mutual information between every pre computed clusterings\n",
    "e, b = cooper.score_for_clustering(clusterings, N)"
   ]
  },
  {
   "cell_type": "code",
   "execution_count": null,
   "metadata": {},
   "outputs": [],
   "source": [
    "# first : just make it work for N = 300 photos ;)"
   ]
  }
 ],
 "metadata": {
  "kernelspec": {
   "display_name": "Python 3",
   "language": "python",
   "name": "python3"
  },
  "language_info": {
   "codemirror_mode": {
    "name": "ipython",
    "version": 3
   },
   "file_extension": ".py",
   "mimetype": "text/x-python",
   "name": "python",
   "nbconvert_exporter": "python",
   "pygments_lexer": "ipython3",
   "version": "3.6.5"
  }
 },
 "nbformat": 4,
 "nbformat_minor": 2
}
